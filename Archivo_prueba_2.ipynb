{
 "cells": [
  {
   "cell_type": "markdown",
   "metadata": {},
   "source": [
    "Ejercitando miercoles"
   ]
  },
  {
   "cell_type": "code",
   "execution_count": 4,
   "metadata": {},
   "outputs": [
    {
     "name": "stdout",
     "output_type": "stream",
     "text": [
      "52\n",
      "5\n"
     ]
    }
   ],
   "source": [
    "lista_numeros = [10,25,32,5,13,14,14,52]\n",
    "minimo= min(lista_numeros)\n",
    "maximo= max(lista_numeros)\n",
    "print(maximo)\n",
    "print(minimo)\n"
   ]
  },
  {
   "cell_type": "markdown",
   "metadata": {},
   "source": [
    "If Elif y Else "
   ]
  },
  {
   "cell_type": "code",
   "execution_count": 11,
   "metadata": {},
   "outputs": [
    {
     "name": "stdout",
     "output_type": "stream",
     "text": [
      "Hola Politecnico Malvinas\n"
     ]
    }
   ],
   "source": [
    "a = int(input('Ingrese un numero'))\n",
    "b = int(input('Ingrese un numero'))\n",
    "if a > b:\n",
    "    print('Hola Politecnico Malvinas')\n"
   ]
  },
  {
   "cell_type": "code",
   "execution_count": 12,
   "metadata": {},
   "outputs": [
    {
     "name": "stdout",
     "output_type": "stream",
     "text": [
      "Hola Politécnico Malvinas\n"
     ]
    }
   ],
   "source": [
    "\n",
    "a = int(input(\"Ingrese el primer número (a): \"))\n",
    "b = int(input(\"Ingrese el segundo número (b): \"))\n",
    "if a != b:\n",
    "    print(\"Hola Politécnico Malvinas\")"
   ]
  },
  {
   "cell_type": "code",
   "execution_count": 16,
   "metadata": {},
   "outputs": [
    {
     "name": "stdout",
     "output_type": "stream",
     "text": [
      "Son distintos\n"
     ]
    }
   ],
   "source": [
    "a = int(input(\"Ingrese el primer número (a): \"))\n",
    "b = int(input(\"Ingrese el segundo número (b): \"))\n",
    "if a == b: \n",
    "    print('Son iguales')\n",
    "elif a != b:\n",
    "    print('Son distintos')"
   ]
  },
  {
   "cell_type": "code",
   "execution_count": 19,
   "metadata": {},
   "outputs": [
    {
     "name": "stdout",
     "output_type": "stream",
     "text": [
      "3\n"
     ]
    }
   ],
   "source": [
    "a = int(input(\"Ingrese el primer número (a): \"))\n",
    "b = int(input(\"Ingrese el segundo número (b): \"))\n",
    "if a == b: \n",
    "    print('1')\n",
    "elif a > b:\n",
    "    print('2')\n",
    "else :\n",
    "    print('3')"
   ]
  },
  {
   "cell_type": "code",
   "execution_count": 20,
   "metadata": {},
   "outputs": [
    {
     "name": "stdout",
     "output_type": "stream",
     "text": [
      "Hola politecnico malvinas\n"
     ]
    }
   ],
   "source": [
    "a = int(input(\"Ingrese el numero a\"))\n",
    "b = int(input(\"Ingrese el numero b\"))\n",
    "c = int(input(\"Ingrese el numero C\"))\n",
    "d = int(input(\"Ingrese el numero d\"))\n",
    "if a == b and c == d :\n",
    "    print('Hola politecnico malvinas')"
   ]
  },
  {
   "cell_type": "code",
   "execution_count": 22,
   "metadata": {},
   "outputs": [
    {
     "name": "stdout",
     "output_type": "stream",
     "text": [
      "Hola politecnico malvinas\n"
     ]
    }
   ],
   "source": [
    "a = int(input(\"Ingrese el numero a\"))\n",
    "b = int(input(\"Ingrese el numero b\"))\n",
    "c = int(input(\"Ingrese el numero C\"))\n",
    "d = int(input(\"Ingrese el numero d\"))\n",
    "if a == b or c == d :\n",
    "    print('Hola politecnico malvinas')"
   ]
  },
  {
   "cell_type": "code",
   "execution_count": 11,
   "metadata": {},
   "outputs": [
    {
     "name": "stdout",
     "output_type": "stream",
     "text": [
      "Eres mayor de edad\n"
     ]
    }
   ],
   "source": [
    "Edad= int(input(\"Ingrese su edad\"))\n",
    "if Edad >= 18:\n",
    "    print(\"Eres mayor de edad\")\n",
    "else :\n",
    "    print(\"Eres menor\")"
   ]
  },
  {
   "cell_type": "code",
   "execution_count": 31,
   "metadata": {},
   "outputs": [
    {
     "name": "stdout",
     "output_type": "stream",
     "text": [
      "El numero es par\n"
     ]
    }
   ],
   "source": [
    "Numero= int(input(\"Ingrese un numero\"))\n",
    "if Numero % 2 == 0: \n",
    "    print(\"El numero es par\")\n",
    "else :\n",
    "    print(\"El numero es impar\")"
   ]
  },
  {
   "cell_type": "code",
   "execution_count": 37,
   "metadata": {},
   "outputs": [
    {
     "name": "stdout",
     "output_type": "stream",
     "text": [
      "Mayor de edad\n"
     ]
    }
   ],
   "source": [
    "Edad= int(input(\"Ingrese su edad\"))\n",
    "mayor_menor= \"Mayor de edad\" if Edad >= 18 else \"Menor de edad\"\n",
    "print(mayor_menor)"
   ]
  },
  {
   "cell_type": "code",
   "execution_count": 40,
   "metadata": {},
   "outputs": [
    {
     "name": "stdout",
     "output_type": "stream",
     "text": [
      "El mayor de los numeros ingresados es: 10\n"
     ]
    }
   ],
   "source": [
    "a = int(input(\"Ingrese el numero a\"))\n",
    "b = int(input(\"Ingrese el numero b\"))\n",
    "c = int(input(\"Ingrese el numero C\"))\n",
    "if a > b and a > c :\n",
    "    mayor = a \n",
    "elif b > a and b > c : \n",
    "    mayor = b   \n",
    "else : \n",
    "    mayor = c \n",
    "print('El mayor de los numeros ingresados es:', mayor)"
   ]
  },
  {
   "cell_type": "code",
   "execution_count": 42,
   "metadata": {},
   "outputs": [
    {
     "name": "stdout",
     "output_type": "stream",
     "text": [
      "Hola Anonimo\n"
     ]
    }
   ],
   "source": [
    "Nombre= input(\"Ingrese su nombre\")\n",
    "if Nombre : \n",
    "    print(\"Hola\",Nombre)\n",
    "else : \n",
    "    print(\"Hola Anonimo\")"
   ]
  },
  {
   "cell_type": "code",
   "execution_count": 47,
   "metadata": {},
   "outputs": [
    {
     "name": "stdout",
     "output_type": "stream",
     "text": [
      "0\n",
      "1\n",
      "perro\n",
      "3\n",
      "4\n",
      "5\n"
     ]
    }
   ],
   "source": [
    "for a in (0,1,\"perro\",3,4,5): \n",
    "    print(a)"
   ]
  },
  {
   "cell_type": "code",
   "execution_count": null,
   "metadata": {},
   "outputs": [],
   "source": [
    "for a in range(20):\n",
    "    print(a)"
   ]
  },
  {
   "cell_type": "code",
   "execution_count": 60,
   "metadata": {},
   "outputs": [
    {
     "name": "stdout",
     "output_type": "stream",
     "text": [
      "2\n",
      "4\n",
      "6\n",
      "8\n",
      "10\n",
      "12\n",
      "14\n",
      "16\n",
      "18\n",
      "20\n"
     ]
    }
   ],
   "source": [
    "a = 1 \n",
    "while a <= 20: \n",
    "    if a % 2 ==0:\n",
    "        print(a)\n",
    "    a += 1"
   ]
  },
  {
   "cell_type": "code",
   "execution_count": 61,
   "metadata": {},
   "outputs": [
    {
     "name": "stdout",
     "output_type": "stream",
     "text": [
      "1\n",
      "3\n",
      "5\n",
      "7\n",
      "9\n",
      "11\n",
      "13\n",
      "15\n",
      "17\n",
      "19\n",
      "21\n",
      "23\n",
      "25\n",
      "27\n",
      "29\n"
     ]
    }
   ],
   "source": [
    "for a in range(30):\n",
    "    if a % 2 !=0:\n",
    "        print(a)"
   ]
  },
  {
   "cell_type": "code",
   "execution_count": 66,
   "metadata": {},
   "outputs": [
    {
     "name": "stdout",
     "output_type": "stream",
     "text": [
      "8 X 1 = 8\n",
      "8 X 2 = 16\n",
      "8 X 3 = 24\n",
      "8 X 4 = 32\n",
      "8 X 5 = 40\n",
      "8 X 6 = 48\n",
      "8 X 7 = 56\n",
      "8 X 8 = 64\n",
      "8 X 9 = 72\n",
      "8 X 10 = 80\n"
     ]
    }
   ],
   "source": [
    "num_1 = int(input('Ingrese un numero para conocer su tabla de multiplicar'))\n",
    "for i in range(1,11):\n",
    "    print(num_1,'X',i,'=',num_1 * i)"
   ]
  },
  {
   "cell_type": "code",
   "execution_count": null,
   "metadata": {},
   "outputs": [],
   "source": [
    "for i in range(1, 101):\n",
    "    if i % 3 == 0 and i % 5 == 0:\n",
    "        print(i,\"es múltiplo de 3 y 5\")\n",
    "    elif i % 3 == 0:\n",
    "        print(i,\"es múltiplo de 3\")\n",
    "    elif i % 5 == 0:\n",
    "        print(i,\"es múltiplo de 5\")\n",
    "    else:\n",
    "        print(i)\n"
   ]
  },
  {
   "cell_type": "code",
   "execution_count": 4,
   "metadata": {},
   "outputs": [
    {
     "name": "stdout",
     "output_type": "stream",
     "text": [
      "7 es primo\n"
     ]
    }
   ],
   "source": [
    "num = int(input(\"Ingrese un número para saber si es primo: \"))\n",
    "# Inicializar el contador de divisores\n",
    "divisores = 0\n",
    "\n",
    "# Iterar sobre los números desde 1 hasta num\n",
    "for i in range(1, num + 1):\n",
    "    # Contar cuántos divisores tiene el número\n",
    "    if num % i == 0:\n",
    "        divisores += 1\n",
    "\n",
    "# Si el número tiene exactamente 2 divisores (1 y él mismo), es primo\n",
    "if divisores == 2:\n",
    "    print(num, \"es primo\")\n",
    "else:\n",
    "    print(num, \"no es primo\")\n"
   ]
  },
  {
   "cell_type": "code",
   "execution_count": 5,
   "metadata": {},
   "outputs": [
    {
     "name": "stdout",
     "output_type": "stream",
     "text": [
      "Números negativos cargados: [-20, -19, -18, -17, -16, -15, -14, -13, -12, -11, -10, -9, -8, -7, -6, -5, -4, -3, -2, -1]\n"
     ]
    }
   ],
   "source": [
    "num_negativos = []\n",
    "numero = -20\n",
    "# Mientras el número sea mayor que -1, cargarlo en la lista\n",
    "while numero < 0:\n",
    "    num_negativos.append(numero)\n",
    "    numero += 1\n",
    "print(\"Números negativos cargados:\", num_negativos)\n"
   ]
  },
  {
   "cell_type": "code",
   "execution_count": 6,
   "metadata": {},
   "outputs": [
    {
     "name": "stdout",
     "output_type": "stream",
     "text": [
      "12\n"
     ]
    }
   ],
   "source": [
    "cadena= 'Hola Politécnico. Esto es una práctica programación con Python'\n",
    "posicion= cadena.index(\"n\")\n",
    "print(posicion)"
   ]
  },
  {
   "cell_type": "code",
   "execution_count": 7,
   "metadata": {},
   "outputs": [
    {
     "name": "stdout",
     "output_type": "stream",
     "text": [
      "La letra 'n' aparece en las posiciones: [12, 27, 50, 54, 61]\n"
     ]
    }
   ],
   "source": [
    "cadena = 'Hola Politécnico. Esto es una práctica programación con Python'\n",
    "# Inicializar una lista para almacenar las posiciones\n",
    "posiciones_n = []\n",
    "# Inicializar la posición de inicio para la búsqueda\n",
    "posicion = -1\n",
    "# Bucle para encontrar todas las apariciones de 'n'\n",
    "while True:\n",
    "    try:\n",
    "        # Encontrar la posición de la letra 'n' después de la última encontrada\n",
    "        posicion = cadena.index('n', posicion + 1)\n",
    "        posiciones_n.append(posicion)\n",
    "    except ValueError:\n",
    "        # Si no se encuentra más 'n', salir del bucle\n",
    "        break\n",
    "# Imprimir las posiciones donde aparece la letra 'n'\n",
    "print(\"La letra 'n' aparece en las posiciones:\", posiciones_n)\n"
   ]
  },
  {
   "cell_type": "code",
   "execution_count": 8,
   "metadata": {},
   "outputs": [
    {
     "name": "stdout",
     "output_type": "stream",
     "text": [
      "Recorriendo la lista con un iterador:\n",
      "H o l a   P o l i t é c n i c o .   E s t o   e s   u n a   p r á c t i c a   p r o g r a m a c i ó n   c o n   P y t h o n "
     ]
    }
   ],
   "source": [
    "cadena = 'Hola Politécnico. Esto es una práctica programación con Python'\n",
    "lista_cadena= list(cadena)\n",
    "iterador= iter(lista_cadena)\n",
    "print(\"Recorriendo la lista con un iterador:\")\n",
    "for elemento in iterador:\n",
    "    print(elemento, end=' ')"
   ]
  },
  {
   "cell_type": "code",
   "execution_count": 13,
   "metadata": {},
   "outputs": [
    {
     "name": "stdout",
     "output_type": "stream",
     "text": [
      "[25, 35, 50, 60, 100]\n"
     ]
    }
   ],
   "source": [
    "lista1 = [18, 25, 29, 32, 35, 42, 50, 60, 63, 100]\n",
    "lista_nueva = []\n",
    "for numero in lista1:\n",
    "    if numero % 5 == 0:\n",
    "        lista_nueva.append(numero)\n",
    "\n",
    "print(lista_nueva)"
   ]
  },
  {
   "cell_type": "code",
   "execution_count": 19,
   "metadata": {},
   "outputs": [
    {
     "name": "stdout",
     "output_type": "stream",
     "text": [
      "2 3 5 7 11 13 17 19 23 29 31 37 41 43 47 53 59 61 67 71 73 79 83 89 97 "
     ]
    }
   ],
   "source": [
    "# Función para verificar si un número es primo\n",
    "def es_primo(num):\n",
    "    if num <= 1:\n",
    "        return False\n",
    "    for i in range(2, int(num**0.5) + 1):\n",
    "        if num % i == 0:\n",
    "            return False\n",
    "    return True\n",
    "\n",
    "# Imprimir números primos del 1 al 100\n",
    "for num in range(1, 101):\n",
    "    if es_primo(num):\n",
    "        print(num, end=' ')\n"
   ]
  },
  {
   "cell_type": "code",
   "execution_count": 21,
   "metadata": {},
   "outputs": [
    {
     "name": "stdout",
     "output_type": "stream",
     "text": [
      "10\n",
      "9\n",
      "8\n",
      "7\n",
      "6\n",
      "5\n",
      "4\n",
      "3\n",
      "2\n",
      "1\n"
     ]
    }
   ],
   "source": [
    "i= 10 \n",
    "while i >= 1: \n",
    "    print(i)\n",
    "    i -= 1  "
   ]
  },
  {
   "cell_type": "code",
   "execution_count": null,
   "metadata": {},
   "outputs": [],
   "source": [
    "i=1 \n",
    "while i <= 30:\n",
    "    if i % 3 !=0:\n",
    "        print(i)\n",
    "    i +=1\n"
   ]
  },
  {
   "cell_type": "code",
   "execution_count": 24,
   "metadata": {},
   "outputs": [
    {
     "name": "stdout",
     "output_type": "stream",
     "text": [
      "La cadena ingresada es: politecnico malvinaas argentinas\n",
      "La cantidad de veces que se encuentra la letra \"A\" es: 5\n"
     ]
    }
   ],
   "source": [
    "ing_cadena= input('Ingrese la oracion deseada')\n",
    "contador_A= 0\n",
    "for caracter in ing_cadena:\n",
    "    if caracter== 'a' or caracter == 'A':\n",
    "        contador_A += 1\n",
    "print('La cadena ingresada es:',ing_cadena)\n",
    "print('La cantidad de veces que se encuentra la letra \"A\" es:',contador_A)"
   ]
  },
  {
   "cell_type": "code",
   "execution_count": 25,
   "metadata": {},
   "outputs": [
    {
     "name": "stdout",
     "output_type": "stream",
     "text": [
      "Marca: Ford\n",
      "Marca: Renault\n",
      "Marca: Peugeot\n",
      "Marca: Audi\n",
      "¡Se encontró la marca Audi!\n"
     ]
    }
   ],
   "source": [
    "marcas = ['Ford', 'Renault', 'Peugeot', 'Audi', 'Toyota']\n",
    "\n",
    "for marca in marcas:\n",
    "    print(\"Marca:\", marca)\n",
    "    if marca == 'Audi':\n",
    "        print(\"¡Se encontró la marca Audi!\")\n",
    "        break\n"
   ]
  },
  {
   "cell_type": "markdown",
   "metadata": {},
   "source": [
    "Clase 6 "
   ]
  },
  {
   "cell_type": "code",
   "execution_count": 17,
   "metadata": {},
   "outputs": [
    {
     "name": "stdout",
     "output_type": "stream",
     "text": [
      "['Buenos Aires', 'New York', 'Londres', 'Ushuaia', 'Roma']\n",
      "New York\n",
      "['New York', 'Londres', 'Ushuaia']\n",
      "['Buenos Aires', 'New York', 'Londres', 'Ushuaia', 'Roma', 'Buenos Aires', 'Oslo']\n",
      "['Buenos Aires', 'New York', 'Londres', 'Ushuaia', 'Miami', 'Roma', 'Buenos Aires', 'Oslo']\n",
      "['Buenos Aires', 'New York', 'Londres', 'Ushuaia', 'Miami', 'Roma', 'Buenos Aires', 'Oslo', 'Moscu', 'Paris', 'Tokio']\n"
     ]
    }
   ],
   "source": [
    "Ciudades_del_Mundo= ['Buenos Aires','New York','Londres','Ushuaia','Roma']\n",
    "print(Ciudades_del_Mundo)\n",
    "print(Ciudades_del_Mundo[1])\n",
    "print(Ciudades_del_Mundo[1:4])\n",
    "Ciudades_del_Mundo.append('Buenos Aires')\n",
    "Ciudades_del_Mundo.append('Oslo')\n",
    "print(Ciudades_del_Mundo)\n",
    "Ciudades_del_Mundo.insert(4,'Miami')\n",
    "print(Ciudades_del_Mundo)\n",
    "Demasciudades= [\"Moscu\",'Paris','Tokio']\n",
    "Ciudades_del_Mundo.extend(Demasciudades)\n",
    "print(Ciudades_del_Mundo)"
   ]
  },
  {
   "cell_type": "code",
   "execution_count": 24,
   "metadata": {},
   "outputs": [
    {
     "name": "stdout",
     "output_type": "stream",
     "text": [
      "(11, 12, 13, 14, 15, 16)\n",
      "1 2 3\n"
     ]
    }
   ],
   "source": [
    "Num= tuple(range(1,21))\n",
    "print(Num[10:16])\n",
    "primero, segundo, tercero= Num[:3]\n",
    "print(primero, segundo, tercero)"
   ]
  }
 ],
 "metadata": {
  "kernelspec": {
   "display_name": "Python 3",
   "language": "python",
   "name": "python3"
  },
  "language_info": {
   "codemirror_mode": {
    "name": "ipython",
    "version": 3
   },
   "file_extension": ".py",
   "mimetype": "text/x-python",
   "name": "python",
   "nbconvert_exporter": "python",
   "pygments_lexer": "ipython3",
   "version": "3.11.4"
  }
 },
 "nbformat": 4,
 "nbformat_minor": 2
}
