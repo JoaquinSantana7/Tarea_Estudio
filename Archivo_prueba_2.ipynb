{
 "cells": [
  {
   "cell_type": "markdown",
   "metadata": {},
   "source": [
    "Ejercitando miercoles"
   ]
  },
  {
   "cell_type": "code",
   "execution_count": 4,
   "metadata": {},
   "outputs": [
    {
     "name": "stdout",
     "output_type": "stream",
     "text": [
      "52\n",
      "5\n"
     ]
    }
   ],
   "source": [
    "lista_numeros = [10,25,32,5,13,14,14,52]\n",
    "minimo= min(lista_numeros)\n",
    "maximo= max(lista_numeros)\n",
    "print(maximo)\n",
    "print(minimo)\n"
   ]
  },
  {
   "cell_type": "markdown",
   "metadata": {},
   "source": [
    "If Elif y Else "
   ]
  },
  {
   "cell_type": "code",
   "execution_count": 11,
   "metadata": {},
   "outputs": [
    {
     "name": "stdout",
     "output_type": "stream",
     "text": [
      "Hola Politecnico Malvinas\n"
     ]
    }
   ],
   "source": [
    "a = int(input('Ingrese un numero'))\n",
    "b = int(input('Ingrese un numero'))\n",
    "if a > b:\n",
    "    print('Hola Politecnico Malvinas')\n"
   ]
  },
  {
   "cell_type": "code",
   "execution_count": 12,
   "metadata": {},
   "outputs": [
    {
     "name": "stdout",
     "output_type": "stream",
     "text": [
      "Hola Politécnico Malvinas\n"
     ]
    }
   ],
   "source": [
    "\n",
    "a = int(input(\"Ingrese el primer número (a): \"))\n",
    "b = int(input(\"Ingrese el segundo número (b): \"))\n",
    "if a != b:\n",
    "    print(\"Hola Politécnico Malvinas\")"
   ]
  },
  {
   "cell_type": "code",
   "execution_count": 16,
   "metadata": {},
   "outputs": [
    {
     "name": "stdout",
     "output_type": "stream",
     "text": [
      "Son distintos\n"
     ]
    }
   ],
   "source": [
    "a = int(input(\"Ingrese el primer número (a): \"))\n",
    "b = int(input(\"Ingrese el segundo número (b): \"))\n",
    "if a == b: \n",
    "    print('Son iguales')\n",
    "elif a != b:\n",
    "    print('Son distintos')"
   ]
  },
  {
   "cell_type": "code",
   "execution_count": 19,
   "metadata": {},
   "outputs": [
    {
     "name": "stdout",
     "output_type": "stream",
     "text": [
      "3\n"
     ]
    }
   ],
   "source": [
    "a = int(input(\"Ingrese el primer número (a): \"))\n",
    "b = int(input(\"Ingrese el segundo número (b): \"))\n",
    "if a == b: \n",
    "    print('1')\n",
    "elif a > b:\n",
    "    print('2')\n",
    "else :\n",
    "    print('3')"
   ]
  },
  {
   "cell_type": "code",
   "execution_count": 20,
   "metadata": {},
   "outputs": [
    {
     "name": "stdout",
     "output_type": "stream",
     "text": [
      "Hola politecnico malvinas\n"
     ]
    }
   ],
   "source": [
    "a = int(input(\"Ingrese el numero a\"))\n",
    "b = int(input(\"Ingrese el numero b\"))\n",
    "c = int(input(\"Ingrese el numero C\"))\n",
    "d = int(input(\"Ingrese el numero d\"))\n",
    "if a == b and c == d :\n",
    "    print('Hola politecnico malvinas')"
   ]
  },
  {
   "cell_type": "code",
   "execution_count": 22,
   "metadata": {},
   "outputs": [
    {
     "name": "stdout",
     "output_type": "stream",
     "text": [
      "Hola politecnico malvinas\n"
     ]
    }
   ],
   "source": [
    "a = int(input(\"Ingrese el numero a\"))\n",
    "b = int(input(\"Ingrese el numero b\"))\n",
    "c = int(input(\"Ingrese el numero C\"))\n",
    "d = int(input(\"Ingrese el numero d\"))\n",
    "if a == b or c == d :\n",
    "    print('Hola politecnico malvinas')"
   ]
  },
  {
   "cell_type": "code",
   "execution_count": 11,
   "metadata": {},
   "outputs": [
    {
     "name": "stdout",
     "output_type": "stream",
     "text": [
      "Eres mayor de edad\n"
     ]
    }
   ],
   "source": [
    "Edad= int(input(\"Ingrese su edad\"))\n",
    "if Edad >= 18:\n",
    "    print(\"Eres mayor de edad\")\n",
    "else :\n",
    "    print(\"Eres menor\")"
   ]
  },
  {
   "cell_type": "code",
   "execution_count": 31,
   "metadata": {},
   "outputs": [
    {
     "name": "stdout",
     "output_type": "stream",
     "text": [
      "El numero es par\n"
     ]
    }
   ],
   "source": [
    "Numero= int(input(\"Ingrese un numero\"))\n",
    "if Numero % 2 == 0: \n",
    "    print(\"El numero es par\")\n",
    "else :\n",
    "    print(\"El numero es impar\")"
   ]
  },
  {
   "cell_type": "code",
   "execution_count": 37,
   "metadata": {},
   "outputs": [
    {
     "name": "stdout",
     "output_type": "stream",
     "text": [
      "Mayor de edad\n"
     ]
    }
   ],
   "source": [
    "Edad= int(input(\"Ingrese su edad\"))\n",
    "mayor_menor= \"Mayor de edad\" if Edad >= 18 else \"Menor de edad\"\n",
    "print(mayor_menor)"
   ]
  },
  {
   "cell_type": "code",
   "execution_count": 40,
   "metadata": {},
   "outputs": [
    {
     "name": "stdout",
     "output_type": "stream",
     "text": [
      "El mayor de los numeros ingresados es: 10\n"
     ]
    }
   ],
   "source": [
    "a = int(input(\"Ingrese el numero a\"))\n",
    "b = int(input(\"Ingrese el numero b\"))\n",
    "c = int(input(\"Ingrese el numero C\"))\n",
    "if a > b and a > c :\n",
    "    mayor = a \n",
    "elif b > a and b > c : \n",
    "    mayor = b   \n",
    "else : \n",
    "    mayor = c \n",
    "print('El mayor de los numeros ingresados es:', mayor)"
   ]
  },
  {
   "cell_type": "code",
   "execution_count": 42,
   "metadata": {},
   "outputs": [
    {
     "name": "stdout",
     "output_type": "stream",
     "text": [
      "Hola Anonimo\n"
     ]
    }
   ],
   "source": [
    "Nombre= input(\"Ingrese su nombre\")\n",
    "if Nombre : \n",
    "    print(\"Hola\",Nombre)\n",
    "else : \n",
    "    print(\"Hola Anonimo\")"
   ]
  },
  {
   "cell_type": "code",
   "execution_count": 47,
   "metadata": {},
   "outputs": [
    {
     "name": "stdout",
     "output_type": "stream",
     "text": [
      "0\n",
      "1\n",
      "perro\n",
      "3\n",
      "4\n",
      "5\n"
     ]
    }
   ],
   "source": [
    "for a in (0,1,\"perro\",3,4,5): \n",
    "    print(a)"
   ]
  },
  {
   "cell_type": "code",
   "execution_count": null,
   "metadata": {},
   "outputs": [],
   "source": [
    "for a in range(20):\n",
    "    print(a)"
   ]
  },
  {
   "cell_type": "code",
   "execution_count": 60,
   "metadata": {},
   "outputs": [
    {
     "name": "stdout",
     "output_type": "stream",
     "text": [
      "2\n",
      "4\n",
      "6\n",
      "8\n",
      "10\n",
      "12\n",
      "14\n",
      "16\n",
      "18\n",
      "20\n"
     ]
    }
   ],
   "source": [
    "a = 1 \n",
    "while a <= 20: \n",
    "    if a % 2 ==0:\n",
    "        print(a)\n",
    "    a += 1"
   ]
  },
  {
   "cell_type": "code",
   "execution_count": 61,
   "metadata": {},
   "outputs": [
    {
     "name": "stdout",
     "output_type": "stream",
     "text": [
      "1\n",
      "3\n",
      "5\n",
      "7\n",
      "9\n",
      "11\n",
      "13\n",
      "15\n",
      "17\n",
      "19\n",
      "21\n",
      "23\n",
      "25\n",
      "27\n",
      "29\n"
     ]
    }
   ],
   "source": [
    "for a in range(30):\n",
    "    if a % 2 !=0:\n",
    "        print(a)"
   ]
  },
  {
   "cell_type": "code",
   "execution_count": 66,
   "metadata": {},
   "outputs": [
    {
     "name": "stdout",
     "output_type": "stream",
     "text": [
      "8 X 1 = 8\n",
      "8 X 2 = 16\n",
      "8 X 3 = 24\n",
      "8 X 4 = 32\n",
      "8 X 5 = 40\n",
      "8 X 6 = 48\n",
      "8 X 7 = 56\n",
      "8 X 8 = 64\n",
      "8 X 9 = 72\n",
      "8 X 10 = 80\n"
     ]
    }
   ],
   "source": [
    "num_1 = int(input('Ingrese un numero para conocer su tabla de multiplicar'))\n",
    "for i in range(1,11):\n",
    "    print(num_1,'X',i,'=',num_1 * i)"
   ]
  },
  {
   "cell_type": "code",
   "execution_count": null,
   "metadata": {},
   "outputs": [],
   "source": [
    "for i in range(1, 101):\n",
    "    if i % 3 == 0 and i % 5 == 0:\n",
    "        print(i,\"es múltiplo de 3 y 5\")\n",
    "    elif i % 3 == 0:\n",
    "        print(i,\"es múltiplo de 3\")\n",
    "    elif i % 5 == 0:\n",
    "        print(i,\"es múltiplo de 5\")\n",
    "    else:\n",
    "        print(i)\n"
   ]
  },
  {
   "cell_type": "code",
   "execution_count": 4,
   "metadata": {},
   "outputs": [
    {
     "name": "stdout",
     "output_type": "stream",
     "text": [
      "7 es primo\n"
     ]
    }
   ],
   "source": [
    "num = int(input(\"Ingrese un número para saber si es primo: \"))\n",
    "# Inicializar el contador de divisores\n",
    "divisores = 0\n",
    "\n",
    "# Iterar sobre los números desde 1 hasta num\n",
    "for i in range(1, num + 1):\n",
    "    # Contar cuántos divisores tiene el número\n",
    "    if num % i == 0:\n",
    "        divisores += 1\n",
    "\n",
    "# Si el número tiene exactamente 2 divisores (1 y él mismo), es primo\n",
    "if divisores == 2:\n",
    "    print(num, \"es primo\")\n",
    "else:\n",
    "    print(num, \"no es primo\")\n"
   ]
  },
  {
   "cell_type": "code",
   "execution_count": 5,
   "metadata": {},
   "outputs": [
    {
     "name": "stdout",
     "output_type": "stream",
     "text": [
      "Números negativos cargados: [-20, -19, -18, -17, -16, -15, -14, -13, -12, -11, -10, -9, -8, -7, -6, -5, -4, -3, -2, -1]\n"
     ]
    }
   ],
   "source": [
    "num_negativos = []\n",
    "numero = -20\n",
    "# Mientras el número sea mayor que -1, cargarlo en la lista\n",
    "while numero < 0:\n",
    "    num_negativos.append(numero)\n",
    "    numero += 1\n",
    "print(\"Números negativos cargados:\", num_negativos)\n"
   ]
  },
  {
   "cell_type": "code",
   "execution_count": 6,
   "metadata": {},
   "outputs": [
    {
     "name": "stdout",
     "output_type": "stream",
     "text": [
      "12\n"
     ]
    }
   ],
   "source": [
    "cadena= 'Hola Politécnico. Esto es una práctica programación con Python'\n",
    "posicion= cadena.index(\"n\")\n",
    "print(posicion)"
   ]
  },
  {
   "cell_type": "code",
   "execution_count": 7,
   "metadata": {},
   "outputs": [
    {
     "name": "stdout",
     "output_type": "stream",
     "text": [
      "La letra 'n' aparece en las posiciones: [12, 27, 50, 54, 61]\n"
     ]
    }
   ],
   "source": [
    "cadena = 'Hola Politécnico. Esto es una práctica programación con Python'\n",
    "# Inicializar una lista para almacenar las posiciones\n",
    "posiciones_n = []\n",
    "# Inicializar la posición de inicio para la búsqueda\n",
    "posicion = -1\n",
    "# Bucle para encontrar todas las apariciones de 'n'\n",
    "while True:\n",
    "    try:\n",
    "        # Encontrar la posición de la letra 'n' después de la última encontrada\n",
    "        posicion = cadena.index('n', posicion + 1)\n",
    "        posiciones_n.append(posicion)\n",
    "    except ValueError:\n",
    "        # Si no se encuentra más 'n', salir del bucle\n",
    "        break\n",
    "# Imprimir las posiciones donde aparece la letra 'n'\n",
    "print(\"La letra 'n' aparece en las posiciones:\", posiciones_n)\n"
   ]
  },
  {
   "cell_type": "code",
   "execution_count": 8,
   "metadata": {},
   "outputs": [
    {
     "name": "stdout",
     "output_type": "stream",
     "text": [
      "Recorriendo la lista con un iterador:\n",
      "H o l a   P o l i t é c n i c o .   E s t o   e s   u n a   p r á c t i c a   p r o g r a m a c i ó n   c o n   P y t h o n "
     ]
    }
   ],
   "source": [
    "cadena = 'Hola Politécnico. Esto es una práctica programación con Python'\n",
    "lista_cadena= list(cadena)\n",
    "iterador= iter(lista_cadena)\n",
    "print(\"Recorriendo la lista con un iterador:\")\n",
    "for elemento in iterador:\n",
    "    print(elemento, end=' ')"
   ]
  },
  {
   "cell_type": "code",
   "execution_count": 13,
   "metadata": {},
   "outputs": [
    {
     "name": "stdout",
     "output_type": "stream",
     "text": [
      "[25, 35, 50, 60, 100]\n"
     ]
    }
   ],
   "source": [
    "lista1 = [18, 25, 29, 32, 35, 42, 50, 60, 63, 100]\n",
    "lista_nueva = []\n",
    "for numero in lista1:\n",
    "    if numero % 5 == 0:\n",
    "        lista_nueva.append(numero)\n",
    "\n",
    "print(lista_nueva)"
   ]
  },
  {
   "cell_type": "code",
   "execution_count": 19,
   "metadata": {},
   "outputs": [
    {
     "name": "stdout",
     "output_type": "stream",
     "text": [
      "2 3 5 7 11 13 17 19 23 29 31 37 41 43 47 53 59 61 67 71 73 79 83 89 97 "
     ]
    }
   ],
   "source": [
    "# Función para verificar si un número es primo\n",
    "def es_primo(num):\n",
    "    if num <= 1:\n",
    "        return False\n",
    "    for i in range(2, int(num**0.5) + 1):\n",
    "        if num % i == 0:\n",
    "            return False\n",
    "    return True\n",
    "\n",
    "# Imprimir números primos del 1 al 100\n",
    "for num in range(1, 101):\n",
    "    if es_primo(num):\n",
    "        print(num, end=' ')\n"
   ]
  },
  {
   "cell_type": "code",
   "execution_count": 21,
   "metadata": {},
   "outputs": [
    {
     "name": "stdout",
     "output_type": "stream",
     "text": [
      "10\n",
      "9\n",
      "8\n",
      "7\n",
      "6\n",
      "5\n",
      "4\n",
      "3\n",
      "2\n",
      "1\n"
     ]
    }
   ],
   "source": [
    "i= 10 \n",
    "while i >= 1: \n",
    "    print(i)\n",
    "    i -= 1  "
   ]
  },
  {
   "cell_type": "code",
   "execution_count": null,
   "metadata": {},
   "outputs": [],
   "source": [
    "i=1 \n",
    "while i <= 30:\n",
    "    if i % 3 !=0:\n",
    "        print(i)\n",
    "    i +=1\n"
   ]
  },
  {
   "cell_type": "code",
   "execution_count": 24,
   "metadata": {},
   "outputs": [
    {
     "name": "stdout",
     "output_type": "stream",
     "text": [
      "La cadena ingresada es: politecnico malvinaas argentinas\n",
      "La cantidad de veces que se encuentra la letra \"A\" es: 5\n"
     ]
    }
   ],
   "source": [
    "ing_cadena= input('Ingrese la oracion deseada')\n",
    "contador_A= 0\n",
    "for caracter in ing_cadena:\n",
    "    if caracter== 'a' or caracter == 'A':\n",
    "        contador_A += 1\n",
    "print('La cadena ingresada es:',ing_cadena)\n",
    "print('La cantidad de veces que se encuentra la letra \"A\" es:',contador_A)"
   ]
  },
  {
   "cell_type": "code",
   "execution_count": 25,
   "metadata": {},
   "outputs": [
    {
     "name": "stdout",
     "output_type": "stream",
     "text": [
      "Marca: Ford\n",
      "Marca: Renault\n",
      "Marca: Peugeot\n",
      "Marca: Audi\n",
      "¡Se encontró la marca Audi!\n"
     ]
    }
   ],
   "source": [
    "marcas = ['Ford', 'Renault', 'Peugeot', 'Audi', 'Toyota']\n",
    "\n",
    "for marca in marcas:\n",
    "    print(\"Marca:\", marca)\n",
    "    if marca == 'Audi':\n",
    "        print(\"¡Se encontró la marca Audi!\")\n",
    "        break\n"
   ]
  },
  {
   "cell_type": "markdown",
   "metadata": {},
   "source": [
    "Clase 6 "
   ]
  },
  {
   "cell_type": "code",
   "execution_count": 17,
   "metadata": {},
   "outputs": [
    {
     "name": "stdout",
     "output_type": "stream",
     "text": [
      "['Buenos Aires', 'New York', 'Londres', 'Ushuaia', 'Roma']\n",
      "New York\n",
      "['New York', 'Londres', 'Ushuaia']\n",
      "['Buenos Aires', 'New York', 'Londres', 'Ushuaia', 'Roma', 'Buenos Aires', 'Oslo']\n",
      "['Buenos Aires', 'New York', 'Londres', 'Ushuaia', 'Miami', 'Roma', 'Buenos Aires', 'Oslo']\n",
      "['Buenos Aires', 'New York', 'Londres', 'Ushuaia', 'Miami', 'Roma', 'Buenos Aires', 'Oslo', 'Moscu', 'Paris', 'Tokio']\n"
     ]
    }
   ],
   "source": [
    "Ciudades_del_Mundo= ['Buenos Aires','New York','Londres','Ushuaia','Roma']\n",
    "print(Ciudades_del_Mundo)\n",
    "print(Ciudades_del_Mundo[1])\n",
    "print(Ciudades_del_Mundo[1:4])\n",
    "Ciudades_del_Mundo.append('Buenos Aires')\n",
    "Ciudades_del_Mundo.append('Oslo')\n",
    "print(Ciudades_del_Mundo)\n",
    "Ciudades_del_Mundo.insert(4,'Miami')\n",
    "print(Ciudades_del_Mundo)\n",
    "Demasciudades= [\"Moscu\",'Paris','Tokio']\n",
    "Ciudades_del_Mundo.extend(Demasciudades)\n",
    "print(Ciudades_del_Mundo)"
   ]
  },
  {
   "cell_type": "code",
   "execution_count": 24,
   "metadata": {},
   "outputs": [
    {
     "name": "stdout",
     "output_type": "stream",
     "text": [
      "(11, 12, 13, 14, 15, 16)\n",
      "1 2 3\n"
     ]
    }
   ],
   "source": [
    "Num= tuple(range(1,21))\n",
    "print(Num[10:16])\n",
    "primero, segundo, tercero= Num[:3]\n",
    "print(primero, segundo, tercero)"
   ]
  },
  {
   "cell_type": "code",
   "execution_count": 2,
   "metadata": {},
   "outputs": [],
   "source": [
    "def saludo ():\n",
    "    print('Hola mundo')"
   ]
  },
  {
   "cell_type": "code",
   "execution_count": 5,
   "metadata": {},
   "outputs": [
    {
     "name": "stdout",
     "output_type": "stream",
     "text": [
      "250\n",
      "500\n"
     ]
    }
   ],
   "source": [
    "def mi_funcion(numero):\n",
    "    return 10 * numero\n",
    "print(mi_funcion(25))\n",
    "print(mi_funcion(50))"
   ]
  },
  {
   "cell_type": "markdown",
   "metadata": {},
   "source": [
    "Funcion con cuerpo vacio, se utiliza pass, para que no devuelva error. "
   ]
  },
  {
   "cell_type": "code",
   "execution_count": 8,
   "metadata": {},
   "outputs": [],
   "source": [
    "def mi_funcion():\n",
    "    pass"
   ]
  },
  {
   "cell_type": "code",
   "execution_count": 12,
   "metadata": {},
   "outputs": [
    {
     "data": {
      "text/plain": [
       "20"
      ]
     },
     "execution_count": 12,
     "metadata": {},
     "output_type": "execute_result"
    }
   ],
   "source": [
    "variable_global= 20\n",
    "def mi_funcion(numero):\n",
    "    global variable_global\n",
    "    variable_global -= 10\n",
    "    return variable_global + numero\n",
    "mi_funcion(10)"
   ]
  },
  {
   "cell_type": "code",
   "execution_count": 21,
   "metadata": {},
   "outputs": [
    {
     "name": "stdout",
     "output_type": "stream",
     "text": [
      "s10\n"
     ]
    }
   ],
   "source": [
    "#class coche():\n",
    "#    def __init__(self,color,marca,modelo):\n",
    "#        self.color=color\n",
    "#        self.marca=marca\n",
    "#        self.modelo=modelo \n",
    "coche1= coche(color='azul',marca='honda',modelo='CRV')\n",
    "coche2= coche(color='rojo',marca='chevrolet',modelo='s10')\n",
    "print(coche2.modelo)"
   ]
  },
  {
   "cell_type": "code",
   "execution_count": 40,
   "metadata": {},
   "outputs": [
    {
     "name": "stdout",
     "output_type": "stream",
     "text": [
      "H01a mi nombres es Gonzalo\n",
      "None\n"
     ]
    }
   ],
   "source": [
    "#utilizando un método dentro de Ia funciön\n",
    "class Persona:\n",
    "    def __init__ (self,nombre,edad):\n",
    "        self.nombre = nombre\n",
    "        self.edad = edad\n",
    "\n",
    "    def mifuncion(self):\n",
    "        print(\"H01a mi nombres es \" + self.nombre)\n",
    "\n",
    "personal = Persona( \"Gonzalo\" , 44)\n",
    "print(personal.mifuncion())"
   ]
  },
  {
   "cell_type": "code",
   "execution_count": 43,
   "metadata": {},
   "outputs": [
    {
     "name": "stdout",
     "output_type": "stream",
     "text": [
      "El Automóvil se desplaza en carretera con un motor.\n",
      "La Bicicleta se desplaza en carretera o senderos pedaleando.\n",
      "La Motocicleta se desplaza en carretera con un motor más pequeño que un automóvil.\n"
     ]
    }
   ],
   "source": [
    "# Definición de la clase base Vehiculo\n",
    "class Vehiculo:\n",
    "    def __init__(self, nombre):\n",
    "        self.nombre = nombre\n",
    "\n",
    "    def desplazarse(self):\n",
    "        pass\n",
    "\n",
    "# Definición de la clase derivada Automovil\n",
    "class Automovil(Vehiculo):\n",
    "    def __init__(self, nombre):\n",
    "        super().__init__(nombre)\n",
    "\n",
    "    def desplazarse(self):\n",
    "        print(f\"El {self.nombre} se desplaza en carretera con un motor.\")\n",
    "\n",
    "# Definición de la clase derivada Bicicleta\n",
    "class Bicicleta(Vehiculo):\n",
    "    def __init__(self, nombre):\n",
    "        super().__init__(nombre)\n",
    "\n",
    "    def desplazarse(self):\n",
    "        print(f\"La {self.nombre} se desplaza en carretera o senderos pedaleando.\")\n",
    "\n",
    "# Definición de la clase derivada Motocicleta\n",
    "class Motocicleta(Vehiculo):\n",
    "    def __init__(self, nombre):\n",
    "        super().__init__(nombre)\n",
    "\n",
    "    def desplazarse(self):\n",
    "        print(f\"La {self.nombre} se desplaza en carretera con un motor más pequeño que un automóvil.\")\n",
    "\n",
    "# Creación de instancias de Automovil, Bicicleta y Motocicleta\n",
    "auto = Automovil(\"Automóvil\")\n",
    "bici = Bicicleta(\"Bicicleta\")\n",
    "moto = Motocicleta(\"Motocicleta\")\n",
    "\n",
    "# Uso de los métodos para mostrar cómo se desplazan\n",
    "vehiculos = [auto, bici, moto]\n",
    "\n",
    "for vehiculo in vehiculos:\n",
    "    vehiculo.desplazarse()"
   ]
  },
  {
   "cell_type": "code",
   "execution_count": null,
   "metadata": {},
   "outputs": [],
   "source": [
    "class GestorDeTareas:\n",
    "    def __init__(self):\n",
    "        self.tareas_pendientes = []\n",
    "        self.tareas_completadas = []\n",
    "    def agregar_tarea(self,tarea):\n",
    "        self.tareas_pendientes.append(tarea)\n",
    "    def marcar_completada(self,tarea):\n",
    "        if tarea in self.tareas_pendientes:\n",
    "            self.tareas_pendientes.remove(tarea)\n",
    "            self.tareas_completadas.append(tarea)\n",
    "        else: \n",
    "            print(f\"La tarea '{tarea}' no esta en la lista de pendientes\")\n",
    "    def listar_tareas_pendientes(self):\n",
    "        return self.tareas_pendientes \n",
    "        \n",
    "        \n",
    "    "
   ]
  },
  {
   "cell_type": "code",
   "execution_count": 44,
   "metadata": {},
   "outputs": [
    {
     "name": "stdout",
     "output_type": "stream",
     "text": [
      "Vuelo AI123 desde Buenos Aires a Madrid, salida a las 14:00. Destino internacional: España.\n",
      "Reserva confirmada para Juan Pérez en el asiento 12A, clase Económica.\n",
      "Información adicional: Este vuelo requiere visa.\n"
     ]
    }
   ],
   "source": [
    "# Clase Vuelo\n",
    "class Vuelo:\n",
    "    def __init__(self, numero_vuelo, origen, destino, hora_salida):\n",
    "        self.numero_vuelo = numero_vuelo\n",
    "        self.origen = origen\n",
    "        self.destino = destino\n",
    "        self.hora_salida = hora_salida\n",
    "\n",
    "    def obtener_informacion(self):\n",
    "        return f\"Vuelo {self.numero_vuelo} desde {self.origen} a {self.destino}, salida a las {self.hora_salida}.\"\n",
    "\n",
    "# Clase VueloInternacional derivada de Vuelo\n",
    "class VueloInternacional(Vuelo):\n",
    "    def __init__(self, numero_vuelo, origen, destino, hora_salida, pais_destino):\n",
    "        super().__init__(numero_vuelo, origen, destino, hora_salida)\n",
    "        self.pais_destino = pais_destino\n",
    "\n",
    "    def obtener_informacion(self):\n",
    "        informacion_base = super().obtener_informacion()\n",
    "        return f\"{informacion_base} Destino internacional: {self.pais_destino}.\"\n",
    "\n",
    "# Clase Reserva\n",
    "class Reserva:\n",
    "    def __init__(self, pasajero_nombre, asiento_numero, clase):\n",
    "        self.pasajero_nombre = pasajero_nombre\n",
    "        self.asiento_numero = asiento_numero\n",
    "        self.clase = clase\n",
    "\n",
    "    def confirmar_reserva(self):\n",
    "        print(f\"Reserva confirmada para {self.pasajero_nombre} en el asiento {self.asiento_numero}, clase {self.clase}.\")\n",
    "\n",
    "# Clase ReservaVueloInternacional derivada de Reserva\n",
    "class ReservaVueloInternacional(Reserva):\n",
    "    def __init__(self, pasajero_nombre, asiento_numero, clase, requiere_visa):\n",
    "        super().__init__(pasajero_nombre, asiento_numero, clase)\n",
    "        self.requiere_visa = requiere_visa\n",
    "\n",
    "    def confirmar_reserva(self):\n",
    "        super().confirmar_reserva()\n",
    "        visa_info = \"requiere visa\" if self.requiere_visa else \"no requiere visa\"\n",
    "        print(f\"Información adicional: Este vuelo {visa_info}.\")\n",
    "\n",
    "# Ejemplo de uso:\n",
    "vuelo = VueloInternacional(\"AI123\", \"Buenos Aires\", \"Madrid\", \"14:00\", \"España\")\n",
    "print(vuelo.obtener_informacion())\n",
    "\n",
    "reserva = ReservaVueloInternacional(\"Juan Pérez\", \"12A\", \"Económica\", True)\n",
    "reserva.confirmar_reserva()\n"
   ]
  }
 ],
 "metadata": {
  "kernelspec": {
   "display_name": "Python 3",
   "language": "python",
   "name": "python3"
  },
  "language_info": {
   "codemirror_mode": {
    "name": "ipython",
    "version": 3
   },
   "file_extension": ".py",
   "mimetype": "text/x-python",
   "name": "python",
   "nbconvert_exporter": "python",
   "pygments_lexer": "ipython3",
   "version": "3.11.4"
  }
 },
 "nbformat": 4,
 "nbformat_minor": 2
}
